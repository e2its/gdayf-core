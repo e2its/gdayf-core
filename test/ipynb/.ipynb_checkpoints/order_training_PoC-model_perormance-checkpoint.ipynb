{
 "cells": [
  {
   "cell_type": "code",
   "execution_count": 1,
   "metadata": {
    "collapsed": true
   },
   "outputs": [],
   "source": [
    "import h2o\n",
    "from pandas import DataFrame as DataFrame\n",
    "from pandas import concat as concat\n",
    "import json\n",
    "import numpy as np"
   ]
  },
  {
   "cell_type": "code",
   "execution_count": 3,
   "metadata": {
    "collapsed": false
   },
   "outputs": [
    {
     "name": "stdout",
     "output_type": "stream",
     "text": [
      "Training set (10000, 28, 28) (10000,)\n",
      "Validation set (10000, 28, 28) (10000,)\n",
      "Checking whether there is an H2O instance running at http://localhost:54321. connected.\n"
     ]
    },
    {
     "data": {
      "text/html": [
       "<div style=\"overflow:auto\"><table style=\"width:50%\"><tr><td>H2O cluster uptime:</td>\n",
       "<td>16 secs</td></tr>\n",
       "<tr><td>H2O cluster version:</td>\n",
       "<td>3.10.4.6</td></tr>\n",
       "<tr><td>H2O cluster version age:</td>\n",
       "<td>27 days </td></tr>\n",
       "<tr><td>H2O cluster name:</td>\n",
       "<td>H2O_from_python_e2its_prm2jp</td></tr>\n",
       "<tr><td>H2O cluster total nodes:</td>\n",
       "<td>1</td></tr>\n",
       "<tr><td>H2O cluster free memory:</td>\n",
       "<td>3.530 Gb</td></tr>\n",
       "<tr><td>H2O cluster total cores:</td>\n",
       "<td>8</td></tr>\n",
       "<tr><td>H2O cluster allowed cores:</td>\n",
       "<td>6</td></tr>\n",
       "<tr><td>H2O cluster status:</td>\n",
       "<td>accepting new members, healthy</td></tr>\n",
       "<tr><td>H2O connection url:</td>\n",
       "<td>http://localhost:54321</td></tr>\n",
       "<tr><td>H2O connection proxy:</td>\n",
       "<td>None</td></tr>\n",
       "<tr><td>H2O internal security:</td>\n",
       "<td>False</td></tr>\n",
       "<tr><td>Python version:</td>\n",
       "<td>3.5.2 final</td></tr></table></div>"
      ],
      "text/plain": [
       "--------------------------  ------------------------------\n",
       "H2O cluster uptime:         16 secs\n",
       "H2O cluster version:        3.10.4.6\n",
       "H2O cluster version age:    27 days\n",
       "H2O cluster name:           H2O_from_python_e2its_prm2jp\n",
       "H2O cluster total nodes:    1\n",
       "H2O cluster free memory:    3.530 Gb\n",
       "H2O cluster total cores:    8\n",
       "H2O cluster allowed cores:  6\n",
       "H2O cluster status:         accepting new members, healthy\n",
       "H2O connection url:         http://localhost:54321\n",
       "H2O connection proxy:\n",
       "H2O internal security:      False\n",
       "Python version:             3.5.2 final\n",
       "--------------------------  ------------------------------"
      ]
     },
     "metadata": {},
     "output_type": "display_data"
    }
   ],
   "source": [
    "import os\n",
    "import sys\n",
    "import tarfile\n",
    "from six.moves import cPickle as pickle\n",
    "# In[2]:\n",
    "\n",
    "os.chdir('d:/Data/Gdeeplearning-Udacity')\n",
    "pickle_file = 'notMNIST.pickle'\n",
    "\n",
    "with open(pickle_file, 'rb') as f:\n",
    "  save = pickle.load(f)\n",
    "  train_dataset = save['valid_dataset']\n",
    "  train_labels = save['valid_labels']\n",
    "  valid_dataset = save['test_dataset']\n",
    "  valid_labels = save['test_labels']\n",
    "\n",
    "  del save  # hint to help gc free up memory\n",
    "    \n",
    "print('Training set', train_dataset.shape, train_labels.shape)\n",
    "print('Validation set', valid_dataset.shape, valid_labels.shape)\n",
    "\n",
    "h2o.init(nthreads=6)"
   ]
  },
  {
   "cell_type": "code",
   "execution_count": 4,
   "metadata": {
    "collapsed": false
   },
   "outputs": [
    {
     "name": "stdout",
     "output_type": "stream",
     "text": [
      "Training set (10000, 785)\n",
      "Validation set (10000, 785)\n"
     ]
    }
   ],
   "source": [
    "# In[5]:\n",
    "\n",
    "image_size = 28\n",
    "num_labels = 10\n",
    "\n",
    "def reformat(dataset, labels):\n",
    "    dataset = DataFrame(dataset.reshape((-1, image_size * image_size)).astype(np.float32))\n",
    "    # Map 0 to [1.0, 0.0, 0.0 ...], 1 to [0.0, 1.0, 0.0 ...]\n",
    "    columns = list()\n",
    "    for each_value in dataset.columns.values:\n",
    "        columns.append(str(each_value))\n",
    "    dataset.columns = columns\n",
    "    labels = DataFrame(labels.reshape((-1, 1)).astype(str))\n",
    "    columns = list()\n",
    "    for each_value in labels.columns.values:\n",
    "        columns.append('objective'+ str(each_value))\n",
    "    labels.columns = columns\n",
    "    #labels = (np.arange(num_labels) == labels[:,None]).astype(np.float32)\n",
    "    return dataset, labels\n",
    "\n",
    "pd_train_dataset, pd_train_labels = reformat(train_dataset, train_labels)\n",
    "pd_valid_dataset, pd_valid_labels = reformat(valid_dataset, valid_labels)\n",
    "pd_train_dataset = concat([pd_train_dataset,pd_train_labels],axis=1)\n",
    "pd_valid_dataset = concat([pd_valid_dataset,pd_valid_labels],axis=1)\n",
    "                       \n",
    "print('Training set', pd_train_dataset.shape)\n",
    "print('Validation set', pd_valid_dataset.shape)\n",
    "\n",
    "# In[9]:\n",
    "\n",
    "#deleting non used memory\n",
    "#train_dataset = []\n",
    "#train_labels = []\n",
    "#valid_dataset = []\n",
    "#valid_labels = []\n"
   ]
  },
  {
   "cell_type": "code",
   "execution_count": 10,
   "metadata": {
    "collapsed": false
   },
   "outputs": [],
   "source": [
    "from h2o import H2OFrame as H2OFrame\n",
    "import time\n"
   ]
  },
  {
   "cell_type": "raw",
   "metadata": {},
   "source": [
    "with open(r'D:\\e2its-dayf.svn\\gdayf\\branches\\0.0.2-jlsanchez\\test\\json\\algorithm_result(ar).json') as json_file:\n",
    "    struct_ar = json.load(json_file)\n",
    "print(type(struct_ar['model_parameters']['h2o'] ))"
   ]
  },
  {
   "cell_type": "code",
   "execution_count": null,
   "metadata": {
    "collapsed": false
   },
   "outputs": [],
   "source": [
    "h2o.cluster().shutdown()"
   ]
  },
  {
   "cell_type": "code",
   "execution_count": 6,
   "metadata": {
    "collapsed": false
   },
   "outputs": [],
   "source": [
    "model =h2o.load_model(r'D:/Data/models/train/H2OHandler_prueba/H2OGradientBoostingEstimator_1495993011.824153')\n"
   ]
  },
  {
   "cell_type": "code",
   "execution_count": 11,
   "metadata": {
    "collapsed": false
   },
   "outputs": [
    {
     "name": "stdout",
     "output_type": "stream",
     "text": [
      "Parse progress: |█████████████████████████████████████████████████████████| 100%\n"
     ]
    }
   ],
   "source": [
    "perf_model  = model.model_performance(H2OFrame(pd_valid_dataset))"
   ]
  },
  {
   "cell_type": "code",
   "execution_count": 23,
   "metadata": {
    "collapsed": false
   },
   "outputs": [
    {
     "name": "stdout",
     "output_type": "stream",
     "text": [
      "Confusion Matrix: vertical: actual; across: predicted\n",
      "\n"
     ]
    },
    {
     "data": {
      "text/html": [
       "<div style=\"overflow:auto\"><table style=\"width:50%\"><tr><td><b>0</b></td>\n",
       "<td><b>1</b></td>\n",
       "<td><b>2</b></td>\n",
       "<td><b>3</b></td>\n",
       "<td><b>4</b></td>\n",
       "<td><b>5</b></td>\n",
       "<td><b>6</b></td>\n",
       "<td><b>7</b></td>\n",
       "<td><b>8</b></td>\n",
       "<td><b>9</b></td>\n",
       "<td><b>Error</b></td>\n",
       "<td><b>Rate</b></td></tr>\n",
       "<tr><td>869.0</td>\n",
       "<td>15.0</td>\n",
       "<td>5.0</td>\n",
       "<td>6.0</td>\n",
       "<td>12.0</td>\n",
       "<td>8.0</td>\n",
       "<td>16.0</td>\n",
       "<td>17.0</td>\n",
       "<td>13.0</td>\n",
       "<td>39.0</td>\n",
       "<td>0.131</td>\n",
       "<td>131 / 1.000</td></tr>\n",
       "<tr><td>6.0</td>\n",
       "<td>850.0</td>\n",
       "<td>7.0</td>\n",
       "<td>34.0</td>\n",
       "<td>32.0</td>\n",
       "<td>5.0</td>\n",
       "<td>23.0</td>\n",
       "<td>15.0</td>\n",
       "<td>17.0</td>\n",
       "<td>11.0</td>\n",
       "<td>0.15</td>\n",
       "<td>150 / 1.000</td></tr>\n",
       "<tr><td>9.0</td>\n",
       "<td>11.0</td>\n",
       "<td>907.0</td>\n",
       "<td>4.0</td>\n",
       "<td>21.0</td>\n",
       "<td>10.0</td>\n",
       "<td>22.0</td>\n",
       "<td>5.0</td>\n",
       "<td>7.0</td>\n",
       "<td>4.0</td>\n",
       "<td>0.093</td>\n",
       "<td>93 / 1.000</td></tr>\n",
       "<tr><td>3.0</td>\n",
       "<td>22.0</td>\n",
       "<td>11.0</td>\n",
       "<td>885.0</td>\n",
       "<td>16.0</td>\n",
       "<td>7.0</td>\n",
       "<td>12.0</td>\n",
       "<td>11.0</td>\n",
       "<td>20.0</td>\n",
       "<td>13.0</td>\n",
       "<td>0.115</td>\n",
       "<td>115 / 1.000</td></tr>\n",
       "<tr><td>8.0</td>\n",
       "<td>29.0</td>\n",
       "<td>38.0</td>\n",
       "<td>5.0</td>\n",
       "<td>844.0</td>\n",
       "<td>26.0</td>\n",
       "<td>21.0</td>\n",
       "<td>8.0</td>\n",
       "<td>13.0</td>\n",
       "<td>8.0</td>\n",
       "<td>0.156</td>\n",
       "<td>156 / 1.000</td></tr>\n",
       "<tr><td>2.0</td>\n",
       "<td>6.0</td>\n",
       "<td>8.0</td>\n",
       "<td>6.0</td>\n",
       "<td>11.0</td>\n",
       "<td>915.0</td>\n",
       "<td>11.0</td>\n",
       "<td>11.0</td>\n",
       "<td>13.0</td>\n",
       "<td>17.0</td>\n",
       "<td>0.085</td>\n",
       "<td>85 / 1.000</td></tr>\n",
       "<tr><td>11.0</td>\n",
       "<td>12.0</td>\n",
       "<td>42.0</td>\n",
       "<td>16.0</td>\n",
       "<td>12.0</td>\n",
       "<td>16.0</td>\n",
       "<td>858.0</td>\n",
       "<td>11.0</td>\n",
       "<td>9.0</td>\n",
       "<td>13.0</td>\n",
       "<td>0.142</td>\n",
       "<td>142 / 1.000</td></tr>\n",
       "<tr><td>22.0</td>\n",
       "<td>23.0</td>\n",
       "<td>4.0</td>\n",
       "<td>11.0</td>\n",
       "<td>21.0</td>\n",
       "<td>13.0</td>\n",
       "<td>19.0</td>\n",
       "<td>859.0</td>\n",
       "<td>16.0</td>\n",
       "<td>12.0</td>\n",
       "<td>0.141</td>\n",
       "<td>141 / 1.000</td></tr>\n",
       "<tr><td>16.0</td>\n",
       "<td>9.0</td>\n",
       "<td>4.0</td>\n",
       "<td>13.0</td>\n",
       "<td>26.0</td>\n",
       "<td>15.0</td>\n",
       "<td>16.0</td>\n",
       "<td>8.0</td>\n",
       "<td>835.0</td>\n",
       "<td>58.0</td>\n",
       "<td>0.165</td>\n",
       "<td>165 / 1.000</td></tr>\n",
       "<tr><td>5.0</td>\n",
       "<td>8.0</td>\n",
       "<td>8.0</td>\n",
       "<td>9.0</td>\n",
       "<td>8.0</td>\n",
       "<td>9.0</td>\n",
       "<td>14.0</td>\n",
       "<td>4.0</td>\n",
       "<td>39.0</td>\n",
       "<td>896.0</td>\n",
       "<td>0.104</td>\n",
       "<td>104 / 1.000</td></tr>\n",
       "<tr><td>951.0</td>\n",
       "<td>985.0</td>\n",
       "<td>1034.0</td>\n",
       "<td>989.0</td>\n",
       "<td>1003.0</td>\n",
       "<td>1024.0</td>\n",
       "<td>1012.0</td>\n",
       "<td>949.0</td>\n",
       "<td>982.0</td>\n",
       "<td>1071.0</td>\n",
       "<td>0.1282</td>\n",
       "<td>1.282 / 10.000</td></tr></table></div>"
      ],
      "text/plain": [
       "0    1    2     3    4     5     6     7    8    9     Error    Rate\n",
       "---  ---  ----  ---  ----  ----  ----  ---  ---  ----  -------  --------------\n",
       "869  15   5     6    12    8     16    17   13   39    0.131    131 / 1.000\n",
       "6    850  7     34   32    5     23    15   17   11    0.15     150 / 1.000\n",
       "9    11   907   4    21    10    22    5    7    4     0.093    93 / 1.000\n",
       "3    22   11    885  16    7     12    11   20   13    0.115    115 / 1.000\n",
       "8    29   38    5    844   26    21    8    13   8     0.156    156 / 1.000\n",
       "2    6    8     6    11    915   11    11   13   17    0.085    85 / 1.000\n",
       "11   12   42    16   12    16    858   11   9    13    0.142    142 / 1.000\n",
       "22   23   4     11   21    13    19    859  16   12    0.141    141 / 1.000\n",
       "16   9    4     13   26    15    16    8    835  58    0.165    165 / 1.000\n",
       "5    8    8     9    8     9     14    4    39   896   0.104    104 / 1.000\n",
       "951  985  1034  989  1003  1024  1012  949  982  1071  0.1282   1.282 / 10.000"
      ]
     },
     "metadata": {},
     "output_type": "display_data"
    },
    {
     "data": {
      "text/plain": []
     },
     "execution_count": 23,
     "metadata": {},
     "output_type": "execute_result"
    }
   ],
   "source": [
    "perf_model.confusion_matrix()"
   ]
  },
  {
   "cell_type": "code",
   "execution_count": 13,
   "metadata": {
    "collapsed": true
   },
   "outputs": [],
   "source": [
    "train_model  = model.model_performance(train=True)"
   ]
  },
  {
   "cell_type": "code",
   "execution_count": 21,
   "metadata": {
    "collapsed": false
   },
   "outputs": [
    {
     "data": {
      "text/plain": [
       "0.3730547268607108"
      ]
     },
     "execution_count": 21,
     "metadata": {},
     "output_type": "execute_result"
    }
   ],
   "source": [
    "train_model.mse()"
   ]
  },
  {
   "cell_type": "code",
   "execution_count": 17,
   "metadata": {
    "collapsed": false
   },
   "outputs": [
    {
     "name": "stdout",
     "output_type": "stream",
     "text": [
      "<class 'h2o.model.metrics_base.H2OMultinomialModelMetrics'>\n"
     ]
    },
    {
     "ename": "KeyError",
     "evalue": "'AIC'",
     "output_type": "error",
     "traceback": [
      "\u001b[0;31m---------------------------------------------------------------------------\u001b[0m",
      "\u001b[0;31mKeyError\u001b[0m                                  Traceback (most recent call last)",
      "\u001b[0;32m<ipython-input-17-f2df8fefacf5>\u001b[0m in \u001b[0;36m<module>\u001b[0;34m()\u001b[0m\n\u001b[1;32m      2\u001b[0m \u001b[1;32mfor\u001b[0m \u001b[0mmethod\u001b[0m \u001b[1;32min\u001b[0m \u001b[0mdir\u001b[0m\u001b[1;33m(\u001b[0m\u001b[0mtype\u001b[0m\u001b[1;33m(\u001b[0m\u001b[0mperf_model\u001b[0m\u001b[1;33m)\u001b[0m\u001b[1;33m)\u001b[0m\u001b[1;33m:\u001b[0m\u001b[1;33m\u001b[0m\u001b[0m\n\u001b[1;32m      3\u001b[0m     \u001b[1;32mif\u001b[0m \u001b[0mcallable\u001b[0m\u001b[1;33m(\u001b[0m\u001b[0mgetattr\u001b[0m\u001b[1;33m(\u001b[0m\u001b[0mtype\u001b[0m\u001b[1;33m(\u001b[0m\u001b[0mperf_model\u001b[0m\u001b[1;33m)\u001b[0m\u001b[1;33m,\u001b[0m\u001b[0mmethod\u001b[0m\u001b[1;33m)\u001b[0m\u001b[1;33m)\u001b[0m \u001b[1;32mand\u001b[0m \u001b[1;33m(\u001b[0m\u001b[1;32mnot\u001b[0m \u001b[0mmethod\u001b[0m\u001b[1;33m.\u001b[0m\u001b[0mstartswith\u001b[0m\u001b[1;33m(\u001b[0m\u001b[1;34m\"_\"\u001b[0m\u001b[1;33m)\u001b[0m\u001b[1;33m)\u001b[0m\u001b[1;33m:\u001b[0m\u001b[1;33m\u001b[0m\u001b[0m\n\u001b[0;32m----> 4\u001b[0;31m             \u001b[0meval\u001b[0m\u001b[1;33m(\u001b[0m\u001b[1;34m'perf_model.'\u001b[0m\u001b[1;33m+\u001b[0m\u001b[0mmethod\u001b[0m\u001b[1;33m+\u001b[0m\u001b[1;34m'()'\u001b[0m\u001b[1;33m)\u001b[0m\u001b[1;33m\u001b[0m\u001b[0m\n\u001b[0m\u001b[1;32m      5\u001b[0m             \u001b[0mprint\u001b[0m\u001b[1;33m(\u001b[0m\u001b[0mvalue\u001b[0m\u001b[1;33m)\u001b[0m\u001b[1;33m\u001b[0m\u001b[0m\n",
      "\u001b[0;32m<string>\u001b[0m in \u001b[0;36m<module>\u001b[0;34m()\u001b[0m\n",
      "\u001b[0;32mD:\\Anaconda3\\lib\\site-packages\\h2o\\model\\metrics_base.py\u001b[0m in \u001b[0;36maic\u001b[0;34m(self)\u001b[0m\n\u001b[1;32m    159\u001b[0m     \u001b[1;32mdef\u001b[0m \u001b[0maic\u001b[0m\u001b[1;33m(\u001b[0m\u001b[0mself\u001b[0m\u001b[1;33m)\u001b[0m\u001b[1;33m:\u001b[0m\u001b[1;33m\u001b[0m\u001b[0m\n\u001b[1;32m    160\u001b[0m         \u001b[1;34m\"\"\"The AIC for this set of metrics.\"\"\"\u001b[0m\u001b[1;33m\u001b[0m\u001b[0m\n\u001b[0;32m--> 161\u001b[0;31m         \u001b[1;32mreturn\u001b[0m \u001b[0mself\u001b[0m\u001b[1;33m.\u001b[0m\u001b[0m_metric_json\u001b[0m\u001b[1;33m[\u001b[0m\u001b[1;34m'AIC'\u001b[0m\u001b[1;33m]\u001b[0m\u001b[1;33m\u001b[0m\u001b[0m\n\u001b[0m\u001b[1;32m    162\u001b[0m \u001b[1;33m\u001b[0m\u001b[0m\n\u001b[1;32m    163\u001b[0m \u001b[1;33m\u001b[0m\u001b[0m\n",
      "\u001b[0;31mKeyError\u001b[0m: 'AIC'"
     ]
    }
   ],
   "source": [
    "print(type(perf_model))\n",
    "for method in dir(type(perf_model)):\n",
    "    if callable(getattr(type(perf_model),method)) and (not method.startswith(\"_\")):\n",
    "            eval('perf_model.'+method+'()')\n",
    "            print(value)"
   ]
  },
  {
   "cell_type": "code",
   "execution_count": null,
   "metadata": {
    "collapsed": true
   },
   "outputs": [],
   "source": []
  }
 ],
 "metadata": {
  "anaconda-cloud": {},
  "kernelspec": {
   "display_name": "Python [conda root]",
   "language": "python",
   "name": "conda-root-py"
  },
  "language_info": {
   "codemirror_mode": {
    "name": "ipython",
    "version": 3
   },
   "file_extension": ".py",
   "mimetype": "text/x-python",
   "name": "python",
   "nbconvert_exporter": "python",
   "pygments_lexer": "ipython3",
   "version": "3.5.2"
  }
 },
 "nbformat": 4,
 "nbformat_minor": 2
}
