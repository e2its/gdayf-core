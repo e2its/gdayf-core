{
 "cells": [
  {
   "cell_type": "code",
   "execution_count": 1,
   "metadata": {
    "collapsed": false
   },
   "outputs": [],
   "source": [
    "import json\n",
    "import time\n",
    "from random import randint"
   ]
  },
  {
   "cell_type": "code",
   "execution_count": 2,
   "metadata": {
    "collapsed": false
   },
   "outputs": [
    {
     "name": "stdout",
     "output_type": "stream",
     "text": [
      "<class 'list'>\n"
     ]
    }
   ],
   "source": [
    "with open(r'..\\json\\algorithm_result(ar).json') as json_file:\n",
    "    struct_ar = json.load(json_file)\n",
    "print(type(struct_ar['model_parameters']['h2o'] ))"
   ]
  },
  {
   "cell_type": "code",
   "execution_count": 7,
   "metadata": {
    "collapsed": false
   },
   "outputs": [
    {
     "name": "stdout",
     "output_type": "stream",
     "text": [
      "H2OGradientBoostingEstimator_prueba\n"
     ]
    }
   ],
   "source": [
    "print(struct_ar['model_id'])"
   ]
  },
  {
   "cell_type": "code",
   "execution_count": 3,
   "metadata": {
    "collapsed": false
   },
   "outputs": [
    {
     "name": "stdout",
     "output_type": "stream",
     "text": [
      "--------------------------------------------------------------------------------\n",
      "--------------------------------------------------------------------------------\n",
      "\n",
      "\n",
      "model_id: H2OGradientBoostingEstimator_1495751746.8371327.13\n",
      "model:h2o.estimators.gbm.H2OGradientBoostingEstimator - type:H2OGradientBoostingEstimator\n",
      "clave:col_sample_rate_change_per_level - valor:1.0 - type:<class 'float'>\n",
      "clave:class_sampling_factors - valor:None - type:<class 'NoneType'>\n",
      "clave:keep_cross_validation_predictions - valor:False - type:<class 'bool'>\n",
      "clave:offset_column - valor:None - type:<class 'NoneType'>\n",
      "clave:balance_classes - valor:False - type:<class 'bool'>\n",
      "clave:response_column - valor:None - type:<class 'NoneType'>\n",
      "clave:tweedie_power - valor:inf - type:<class 'float'>\n",
      "clave:pred_noise_bandwidth - valor:0.0 - type:<class 'float'>\n",
      "clave:nfolds - valor:0 - type:<class 'int'>\n",
      "clave:categorical_encoding - valor:auto - type:<class 'str'>\n",
      "clave:nbins_top_level - valor:1024 - type:<class 'int'>\n",
      "clave:min_rows - valor:10.0 - type:<class 'float'>\n",
      "clave:checkpoint - valor:None - type:<class 'NoneType'>\n",
      "clave:max_after_balance_size - valor:5.0 - type:<class 'float'>\n",
      "clave:model_id - valor:0 - type:<class 'int'>\n",
      "clave:sample_rate_per_class - valor:None - type:<class 'NoneType'>\n",
      "clave:max_confusion_matrix_size - valor:20 - type:<class 'int'>\n",
      "clave:seed - valor:-1 - type:<class 'int'>\n",
      "clave:r2_stopping - valor:inf - type:<class 'float'>\n",
      "clave:ignore_const_cols - valor:True - type:<class 'bool'>\n",
      "clave:max_depth - valor:5 - type:<class 'int'>\n",
      "clave:ntrees - valor:50 - type:<class 'int'>\n",
      "clave:col_sample_rate - valor:1.0 - type:<class 'float'>\n",
      "clave:col_sample_rate_per_tree - valor:1.0 - type:<class 'float'>\n",
      "clave:nbins_cats - valor:1024 - type:<class 'int'>\n",
      "clave:huber_alpha - valor:0.9 - type:<class 'float'>\n",
      "clave:learn_rate - valor:0.1 - type:<class 'float'>\n",
      "clave:validation_frame - valor:None - type:<class 'NoneType'>\n",
      "clave:fold_column - valor:None - type:<class 'NoneType'>\n",
      "clave:stopping_rounds - valor:0 - type:<class 'int'>\n",
      "clave:stopping_tolerance - valor:0.001 - type:<class 'float'>\n",
      "clave:min_split_improvement - valor:1e-05 - type:<class 'float'>\n",
      "clave:max_abs_leafnode_pred - valor:inf - type:<class 'float'>\n",
      "clave:max_runtime_secs - valor:0 - type:<class 'int'>\n",
      "clave:weights_column - valor:None - type:<class 'NoneType'>\n",
      "clave:histogram_type - valor:auto - type:<class 'str'>\n",
      "clave:sample_rate - valor:1.0 - type:<class 'float'>\n",
      "clave:ignored_columns - valor:None - type:<class 'NoneType'>\n",
      "clave:fold_assignment - valor:auto - type:<class 'str'>\n",
      "clave:score_each_iteration - valor:True - type:<class 'bool'>\n",
      "clave:build_tree_one_node - valor:False - type:<class 'bool'>\n",
      "clave:keep_cross_validation_fold_assignment - valor:False - type:<class 'bool'>\n",
      "clave:stopping_metric - valor:auto - type:<class 'str'>\n",
      "clave:quantile_alpha - valor:0.5 - type:<class 'float'>\n",
      "clave:score_tree_interval - valor:0 - type:<class 'int'>\n",
      "clave:training_frame - valor:None - type:<class 'NoneType'>\n",
      "clave:distribution - valor:auto - type:<class 'str'>\n",
      "clave:max_hit_ratio_k - valor:0 - type:<class 'int'>\n",
      "clave:learn_rate_annealing - valor:1.0 - type:<class 'float'>\n",
      "clave:nbins - valor:20 - type:<class 'int'>\n",
      "Clasificator type: binomial\n",
      "Clasificator type: multinomial\n",
      "Clasificator type: regression\n",
      "--------------------------------------------------------------------------------\n",
      "--------------------------------------------------------------------------------\n",
      "\n",
      "\n",
      "model_id: H2OGeneralizedLinearEstimator_1495751746.8371327.41\n",
      "model:h2o.estimators.glm.H2OGeneralizedLinearEstimator - type:H2OGeneralizedLinearEstimator\n",
      "clave:class_sampling_factors - valor:None - type:<class 'NoneType'>\n",
      "clave:beta_constraints - valor:None - type:<class 'NoneType'>\n",
      "clave:keep_cross_validation_predictions - valor:False - type:<class 'bool'>\n",
      "clave:max_active_predictors - valor:-1 - type:<class 'int'>\n",
      "clave:link - valor:family_default - type:<class 'str'>\n",
      "clave:offset_column - valor:None - type:<class 'NoneType'>\n",
      "clave:balance_classes - valor:False - type:<class 'bool'>\n",
      "clave:intercept - valor:True - type:<class 'bool'>\n",
      "clave:score_each_iteration - valor:False - type:<class 'bool'>\n",
      "clave:prior - valor:-1.0 - type:<class 'float'>\n",
      "clave:nlambdas - valor:-1 - type:<class 'int'>\n",
      "clave:compute_p_values - valor:False - type:<class 'bool'>\n",
      "clave:lambda_search - valor:False - type:<class 'bool'>\n",
      "clave:nfolds - valor:0 - type:<class 'int'>\n",
      "clave:max_after_balance_size - valor:5.0 - type:<class 'float'>\n",
      "clave:model_id - valor:0 - type:<class 'int'>\n",
      "clave:max_confusion_matrix_size - valor:20 - type:<class 'int'>\n",
      "clave:seed - valor:-1 - type:<class 'int'>\n",
      "clave:ignore_const_cols - valor:True - type:<class 'bool'>\n",
      "clave:standardize - valor:True - type:<class 'bool'>\n",
      "clave:tweedie_link_power - valor:1 - type:<class 'int'>\n",
      "clave:gradient_epsilon - valor:-1.0 - type:<class 'float'>\n",
      "clave:validation_frame - valor:None - type:<class 'NoneType'>\n",
      "clave:fold_column - valor:None - type:<class 'NoneType'>\n",
      "clave:max_runtime_secs - valor:0 - type:<class 'int'>\n",
      "clave:non_negative - valor:False - type:<class 'bool'>\n",
      "clave:weights_column - valor:None - type:<class 'NoneType'>\n",
      "clave:solver - valor:auto - type:<class 'str'>\n",
      "clave:ignored_columns - valor:None - type:<class 'NoneType'>\n",
      "clave:fold_assignment - valor:auto - type:<class 'str'>\n",
      "clave:response_column - valor:None - type:<class 'NoneType'>\n",
      "clave:beta_epsilon - valor:0.0001 - type:<class 'float'>\n",
      "clave:objective_epsilon - valor:-1.0 - type:<class 'float'>\n",
      "clave:interactions - valor:None - type:<class 'NoneType'>\n",
      "clave:alpha - valor:None - type:<class 'NoneType'>\n",
      "clave:keep_cross_validation_fold_assignment - valor:False - type:<class 'bool'>\n",
      "clave:tweedie_variance_power - valor:0 - type:<class 'int'>\n",
      "clave:missing_values_handling - valor:mean_imputation - type:<class 'str'>\n",
      "clave:family - valor:gaussian - type:<class 'str'>\n",
      "clave:early_stopping - valor:True - type:<class 'bool'>\n",
      "clave:max_iterations - valor:-1 - type:<class 'int'>\n",
      "clave:training_frame - valor:None - type:<class 'NoneType'>\n",
      "clave:lambda_min_ratio - valor:-1.0 - type:<class 'float'>\n",
      "clave:max_hit_ratio_k - valor:0 - type:<class 'int'>\n",
      "clave:remove_collinear_columns - valor:False - type:<class 'bool'>\n",
      "clave:lambda_ - valor:None - type:<class 'NoneType'>\n",
      "Clasificator type: binomial\n",
      "Clasificator type: multinomial\n",
      "Clasificator type: regression\n",
      "--------------------------------------------------------------------------------\n",
      "--------------------------------------------------------------------------------\n",
      "\n",
      "\n",
      "model_id: H2ODeepLearningEstimator_1495751746.8371327.13\n",
      "model:h2o.estimators.deeplearning.H2ODeepLearningEstimator - type:H2ODeepLearningEstimator\n",
      "clave:export_weights_and_biases - valor:False - type:<class 'bool'>\n",
      "clave:classification_stop - valor:0.0 - type:<class 'float'>\n",
      "clave:keep_cross_validation_predictions - valor:False - type:<class 'bool'>\n",
      "clave:activation - valor:rectifier - type:<class 'str'>\n",
      "clave:score_training_samples - valor:10000 - type:<class 'int'>\n",
      "clave:offset_column - valor:None - type:<class 'NoneType'>\n",
      "clave:balance_classes - valor:False - type:<class 'bool'>\n",
      "clave:score_each_iteration - valor:False - type:<class 'bool'>\n",
      "clave:score_interval - valor:5.0 - type:<class 'float'>\n",
      "clave:diagnostics - valor:True - type:<class 'bool'>\n",
      "clave:tweedie_power - valor:1.5 - type:<class 'float'>\n",
      "clave:nfolds - valor:0 - type:<class 'int'>\n",
      "clave:elastic_averaging_moving_rate - valor:0.9 - type:<class 'float'>\n",
      "clave:checkpoint - valor:None - type:<class 'NoneType'>\n",
      "clave:hidden_dropout_ratios - valor:0.5 - type:<class 'float'>\n",
      "clave:elastic_averaging_regularization - valor:0.001 - type:<class 'float'>\n",
      "clave:max_confusion_matrix_size - valor:20 - type:<class 'int'>\n",
      "clave:seed - valor:-1 - type:<class 'int'>\n",
      "clave:regression_stop - valor:1e-06 - type:<class 'float'>\n",
      "clave:hidden - valor:[200,200] - type:<class 'str'>\n",
      "clave:standardize - valor:True - type:<class 'bool'>\n",
      "clave:target_ratio_comm_to_comp - valor:0.5 - type:<class 'float'>\n",
      "clave:huber_alpha - valor:0.9 - type:<class 'float'>\n",
      "clave:l2 - valor:0.0 - type:<class 'float'>\n",
      "clave:pretrained_autoencoder - valor:None - type:<class 'NoneType'>\n",
      "clave:validation_frame - valor:None - type:<class 'NoneType'>\n",
      "clave:fold_column - valor:None - type:<class 'NoneType'>\n",
      "clave:overwrite_with_best_model - valor:True - type:<class 'bool'>\n",
      "clave:weights_column - valor:None - type:<class 'NoneType'>\n",
      "clave:max_categorical_features - valor:2147483647 - type:<class 'int'>\n",
      "clave:momentum_ramp - valor:1000000.0 - type:<class 'float'>\n",
      "clave:momentum_start - valor:0.0 - type:<class 'float'>\n",
      "clave:fold_assignment - valor:auto - type:<class 'str'>\n",
      "clave:response_column - valor:None - type:<class 'NoneType'>\n",
      "clave:score_validation_samples - valor:0 - type:<class 'int'>\n",
      "clave:quiet_mode - valor:False - type:<class 'bool'>\n",
      "clave:rho - valor:0.99 - type:<class 'float'>\n",
      "clave:loss - valor:automatic - type:<class 'str'>\n",
      "clave:keep_cross_validation_fold_assignment - valor:False - type:<class 'bool'>\n",
      "clave:initial_weight_distribution - valor:uniform_adaptive - type:<class 'str'>\n",
      "clave:replicate_training_data - valor:True - type:<class 'bool'>\n",
      "clave:training_frame - valor:None - type:<class 'NoneType'>\n",
      "clave:distribution - valor:auto - type:<class 'str'>\n",
      "clave:max_hit_ratio_k - valor:0 - type:<class 'int'>\n",
      "clave:variable_importances - valor:False - type:<class 'bool'>\n",
      "clave:fast_mode - valor:True - type:<class 'bool'>\n",
      "clave:class_sampling_factors - valor:None - type:<class 'NoneType'>\n",
      "clave:initial_biases - valor:None - type:<class 'NoneType'>\n",
      "clave:adaptive_rate - valor:True - type:<class 'bool'>\n",
      "clave:epsilon - valor:1e-08 - type:<class 'float'>\n",
      "clave:sparse - valor:False - type:<class 'bool'>\n",
      "clave:score_duty_cycle - valor:0.1 - type:<class 'float'>\n",
      "clave:score_validation_sampling - valor:0 - type:<class 'int'>\n",
      "clave:sparsity_beta - valor:0.0 - type:<class 'float'>\n",
      "clave:max_w2 - valor:3.4028235e+38 - type:<class 'float'>\n",
      "clave:autoencoder - valor:False - type:<class 'bool'>\n",
      "clave:force_load_balance - valor:True - type:<class 'bool'>\n",
      "clave:average_activation - valor:0.0 - type:<class 'float'>\n",
      "clave:rate_annealing - valor:1e-06 - type:<class 'float'>\n",
      "clave:max_after_balance_size - valor:5.0 - type:<class 'float'>\n",
      "clave:model_id - valor:0 - type:<class 'int'>\n",
      "clave:epochs - valor:10.0 - type:<class 'float'>\n",
      "clave:use_all_factor_levels - valor:True - type:<class 'bool'>\n",
      "clave:col_major - valor:False - type:<class 'bool'>\n",
      "clave:elastic_averaging - valor:False - type:<class 'bool'>\n",
      "clave:ignore_const_cols - valor:True - type:<class 'bool'>\n",
      "clave:max_runtime_secs - valor:0.0 - type:<class 'float'>\n",
      "clave:single_node_mode - valor:False - type:<class 'bool'>\n",
      "clave:initial_weights - valor:None - type:<class 'NoneType'>\n",
      "clave:l1 - valor:0.0 - type:<class 'float'>\n",
      "clave:train_samples_per_iteration - valor:-2 - type:<class 'int'>\n",
      "clave:stopping_rounds - valor:5 - type:<class 'int'>\n",
      "clave:rate - valor:0.005 - type:<class 'float'>\n",
      "clave:stopping_tolerance - valor:0.0 - type:<class 'float'>\n",
      "clave:initial_weight_scale - valor:1.0 - type:<class 'float'>\n",
      "clave:reproducible - valor:False - type:<class 'bool'>\n",
      "clave:momentum_stable - valor:0.0 - type:<class 'float'>\n",
      "clave:ignored_columns - valor:None - type:<class 'NoneType'>\n",
      "clave:rate_decay - valor:1.0 - type:<class 'float'>\n",
      "clave:mini_batch_size - valor:1 - type:<class 'int'>\n",
      "clave:stopping_metric - valor:auto - type:<class 'str'>\n",
      "clave:missing_values_handling - valor:mean_imputation - type:<class 'str'>\n",
      "clave:quantile_alpha - valor:0.5 - type:<class 'float'>\n",
      "clave:input_dropout_ratio - valor:0.0 - type:<class 'float'>\n",
      "clave:nesterov_accelerated_gradient - valor:True - type:<class 'bool'>\n",
      "clave:categorical_encoding - valor:auto - type:<class 'str'>\n",
      "clave:shuffle_training_data - valor:False - type:<class 'bool'>\n",
      "Clasificator type: binomial\n",
      "Clasificator type: multinomial\n",
      "Clasificator type: regression\n",
      "--------------------------------------------------------------------------------\n",
      "--------------------------------------------------------------------------------\n",
      "\n",
      "\n",
      "model_id: H2ORandomForestEstimator_1495751746.8527627.9\n",
      "model:h2o.estimators.random_forest.H2ORandomForestEstimator - type:H2ORandomForestEstimator\n",
      "clave:nbins_cats - valor:1024 - type:<class 'int'>\n",
      "clave:mtries - valor:-1 - type:<class 'int'>\n",
      "clave:validation_frame - valor:None - type:<class 'NoneType'>\n",
      "clave:fold_column - valor:None - type:<class 'NoneType'>\n",
      "clave:class_sampling_factors - valor:None - type:<class 'NoneType'>\n",
      "clave:keep_cross_validation_predictions - valor:False - type:<class 'bool'>\n",
      "clave:stopping_tolerance - valor:0.001 - type:<class 'float'>\n",
      "clave:max_depth - valor:5 - type:<class 'int'>\n",
      "clave:offset_column - valor:None - type:<class 'NoneType'>\n",
      "clave:balance_classes - valor:False - type:<class 'bool'>\n",
      "clave:response_column - valor:None - type:<class 'NoneType'>\n",
      "clave:max_runtime_secs - valor:0 - type:<class 'int'>\n",
      "clave:weights_column - valor:None - type:<class 'NoneType'>\n",
      "clave:histogram_type - valor:auto - type:<class 'str'>\n",
      "clave:binomial_double_trees - valor:False - type:<class 'bool'>\n",
      "clave:stopping_rounds - valor:0 - type:<class 'int'>\n",
      "clave:sample_rate - valor:1.0 - type:<class 'float'>\n",
      "clave:ignored_columns - valor:None - type:<class 'NoneType'>\n",
      "clave:col_sample_rate_change_per_level - valor:1.0 - type:<class 'float'>\n",
      "clave:fold_assignment - valor:auto - type:<class 'str'>\n",
      "clave:score_each_iteration - valor:False - type:<class 'bool'>\n",
      "clave:nfolds - valor:0 - type:<class 'int'>\n",
      "clave:col_sample_rate_per_tree - valor:1.0 - type:<class 'float'>\n",
      "clave:nbins_top_level - valor:1024 - type:<class 'int'>\n",
      "clave:min_rows - valor:10.0 - type:<class 'float'>\n",
      "clave:checkpoint - valor:None - type:<class 'NoneType'>\n",
      "clave:max_after_balance_size - valor:5.0 - type:<class 'float'>\n",
      "clave:model_id - valor:0 - type:<class 'int'>\n",
      "clave:sample_rate_per_class - valor:None - type:<class 'NoneType'>\n",
      "clave:build_tree_one_node - valor:False - type:<class 'bool'>\n",
      "clave:keep_cross_validation_fold_assignment - valor:False - type:<class 'bool'>\n",
      "clave:stopping_metric - valor:auto - type:<class 'str'>\n",
      "clave:max_confusion_matrix_size - valor:20 - type:<class 'int'>\n",
      "clave:seed - valor:-1 - type:<class 'int'>\n",
      "clave:r2_stopping - valor:inf - type:<class 'float'>\n",
      "clave:ignore_const_cols - valor:True - type:<class 'bool'>\n",
      "clave:score_tree_interval - valor:0 - type:<class 'int'>\n",
      "clave:training_frame - valor:None - type:<class 'NoneType'>\n",
      "clave:ntrees - valor:50 - type:<class 'int'>\n",
      "clave:max_hit_ratio_k - valor:0 - type:<class 'int'>\n",
      "clave:categorical_encoding - valor:auto - type:<class 'str'>\n",
      "clave:nbins - valor:20 - type:<class 'int'>\n",
      "clave:min_split_improvement - valor:1e-05 - type:<class 'float'>\n",
      "Clasificator type: binomial\n",
      "Clasificator type: multinomial\n",
      "Clasificator type: regression\n"
     ]
    }
   ],
   "source": [
    "\n",
    "for each_value in range(0,len(struct_ar['model_parameters']['h2o'])) :\n",
    "    print('--------------------------------------------------------------------------------')\n",
    "    print('--------------------------------------------------------------------------------')\n",
    "    print('\\n')\n",
    "    print ('model_id: %s_%s.%s'% (struct_ar['model_parameters']['h2o'][each_value]['model'],time.time(),randint(0,100)) )\n",
    "    print('model:%s.%s - type:%s'%\n",
    "          (struct_ar['model_parameters']['h2o'][each_value]['module'],\n",
    "          struct_ar['model_parameters']['h2o'][each_value]['model'],\n",
    "          struct_ar['model_parameters']['h2o'][each_value]['model']))\n",
    "    for key, value in struct_ar['model_parameters']['h2o'][each_value]['parameters'].items():\n",
    "        print('clave:%s - valor:%s - type:%s'% (key,value['value'],type(value['value'])))\n",
    "    for each_value2 in range(0,len(struct_ar['model_parameters']['h2o'][each_value]['types'])):\n",
    "        if struct_ar['model_parameters']['h2o'][each_value]['types'][each_value2]['active']:\n",
    "            print('Clasificator type: %s'% struct_ar['model_parameters']['h2o'][each_value]['types'][each_value2]['type'])\n"
   ]
  },
  {
   "cell_type": "code",
   "execution_count": 28,
   "metadata": {
    "collapsed": false
   },
   "outputs": [
    {
     "name": "stdout",
     "output_type": "stream",
     "text": [
      "h2o.estimators.gbm.H2OGradientBoostingEstimator(training_frame='training_frame', validation_frame_frame='valid_frame', max_depth=5, ntrees=5, distribution='auto', build_tree_one_node=False, score_each_iteration=True, learn_rate=0.1, learn_rate_annealing=1.0, model_id='H2OGradientBoostingEstimator_prueba', max_runtime_secs=100, nfolds=2, seed=12345, fold_assignment='auto', response_column='C104')\n"
     ]
    }
   ],
   "source": [
    "model_command = []\n",
    "model_command.append(struct_ar['model_parameters']['h2o'][0]['module'])\n",
    "model_command.append(\".\")\n",
    "model_command.append(struct_ar['model_parameters']['h2o'][0]['model'])\n",
    "model_command.append(\"(\")\n",
    "#model_command.append(\"model_id=\\'%s\\'\"% struct_ar['model_id'])\n",
    "model_command.append(\"training_frame=\\'%s\\'\"% \"training_frame\")\n",
    "model_command.append(\", validation_frame_frame=\\'%s\\'\"% \"valid_frame\")\n",
    "for key, value in struct_ar['model_parameters']['h2o'][0]['parameters'].items():\n",
    "    if value['seleccionable']:\n",
    "        if isinstance(value['value'],str):\n",
    "            model_command.append(\", %s=\\'%s\\'\"% (key,value['value']))\n",
    "        else:\n",
    "            model_command.append(\", %s=%s\"% (key,value['value']))\n",
    "model_command.append(\")\")\n",
    "model = ''.join(model_command)\n",
    "print (model)\n"
   ]
  },
  {
   "cell_type": "code",
   "execution_count": 20,
   "metadata": {
    "collapsed": false
   },
   "outputs": [
    {
     "name": "stdout",
     "output_type": "stream",
     "text": [
      "Checking whether there is an H2O instance running at http://localhost:54321..... not found.\n",
      "Attempting to start a local H2O server...\n",
      "; OpenJDK 64-Bit Server VM (Zulu 8.17.0.3-win64) (build 25.102-b14, mixed mode)\n",
      "  Starting server from D:\\Anaconda3\\lib\\site-packages\\h2o\\backend\\bin\\h2o.jar\n",
      "  Ice root: C:\\Users\\Public\\Documents\\Wondershare\\CreatorTemp\\tmpuf4_g6bn\n",
      "  JVM stdout: C:\\Users\\Public\\Documents\\Wondershare\\CreatorTemp\\tmpuf4_g6bn\\h2o_e2its_started_from_python.out\n",
      "  JVM stderr: C:\\Users\\Public\\Documents\\Wondershare\\CreatorTemp\\tmpuf4_g6bn\\h2o_e2its_started_from_python.err\n",
      "  Server is running at http://127.0.0.1:54321\n",
      "Connecting to H2O server at http://127.0.0.1:54321... successful.\n"
     ]
    },
    {
     "data": {
      "text/html": [
       "<div style=\"overflow:auto\"><table style=\"width:50%\"><tr><td>H2O cluster uptime:</td>\n",
       "<td>09 secs</td></tr>\n",
       "<tr><td>H2O cluster version:</td>\n",
       "<td>3.10.4.6</td></tr>\n",
       "<tr><td>H2O cluster version age:</td>\n",
       "<td>24 days </td></tr>\n",
       "<tr><td>H2O cluster name:</td>\n",
       "<td>H2O_from_python_e2its_6sdcb2</td></tr>\n",
       "<tr><td>H2O cluster total nodes:</td>\n",
       "<td>1</td></tr>\n",
       "<tr><td>H2O cluster free memory:</td>\n",
       "<td>3.530 Gb</td></tr>\n",
       "<tr><td>H2O cluster total cores:</td>\n",
       "<td>8</td></tr>\n",
       "<tr><td>H2O cluster allowed cores:</td>\n",
       "<td>8</td></tr>\n",
       "<tr><td>H2O cluster status:</td>\n",
       "<td>accepting new members, healthy</td></tr>\n",
       "<tr><td>H2O connection url:</td>\n",
       "<td>http://127.0.0.1:54321</td></tr>\n",
       "<tr><td>H2O connection proxy:</td>\n",
       "<td>None</td></tr>\n",
       "<tr><td>H2O internal security:</td>\n",
       "<td>False</td></tr>\n",
       "<tr><td>Python version:</td>\n",
       "<td>3.5.2 final</td></tr></table></div>"
      ],
      "text/plain": [
       "--------------------------  ------------------------------\n",
       "H2O cluster uptime:         09 secs\n",
       "H2O cluster version:        3.10.4.6\n",
       "H2O cluster version age:    24 days\n",
       "H2O cluster name:           H2O_from_python_e2its_6sdcb2\n",
       "H2O cluster total nodes:    1\n",
       "H2O cluster free memory:    3.530 Gb\n",
       "H2O cluster total cores:    8\n",
       "H2O cluster allowed cores:  8\n",
       "H2O cluster status:         accepting new members, healthy\n",
       "H2O connection url:         http://127.0.0.1:54321\n",
       "H2O connection proxy:\n",
       "H2O internal security:      False\n",
       "Python version:             3.5.2 final\n",
       "--------------------------  ------------------------------"
      ]
     },
     "metadata": {},
     "output_type": "display_data"
    }
   ],
   "source": [
    "import h2o\n",
    "h2o.init()"
   ]
  },
  {
   "cell_type": "code",
   "execution_count": 29,
   "metadata": {
    "collapsed": false
   },
   "outputs": [
    {
     "name": "stdout",
     "output_type": "stream",
     "text": [
      "h2o.estimators.gbm.H2OGradientBoostingEstimator(training_frame='training_frame', validation_frame_frame='valid_frame', max_depth=5, ntrees=5, distribution='auto', build_tree_one_node=False, score_each_iteration=True, learn_rate=0.1, learn_rate_annealing=1.0, model_id='H2OGradientBoostingEstimator_prueba', max_runtime_secs=100, nfolds=2, seed=12345, fold_assignment='auto', response_column='C104')\n"
     ]
    },
    {
     "ename": "H2OTypeError",
     "evalue": "Argument `training_frame` should be an ?H2OFrame, got string training_frame",
     "output_type": "error",
     "traceback": [
      "\u001b[0;31m---------------------------------------------------------------------------\u001b[0m",
      "\u001b[0;31mH2OTypeError\u001b[0m                              Traceback (most recent call last)",
      "\u001b[0;32m<ipython-input-29-fe30f7173af2>\u001b[0m in \u001b[0;36m<module>\u001b[0;34m()\u001b[0m\n\u001b[1;32m      1\u001b[0m \u001b[1;33m\u001b[0m\u001b[0m\n\u001b[1;32m      2\u001b[0m \u001b[0mprint\u001b[0m \u001b[1;33m(\u001b[0m\u001b[0mmodel\u001b[0m\u001b[1;33m)\u001b[0m\u001b[1;33m\u001b[0m\u001b[0m\n\u001b[0;32m----> 3\u001b[0;31m \u001b[0mmodel_base\u001b[0m \u001b[1;33m=\u001b[0m \u001b[0meval\u001b[0m\u001b[1;33m(\u001b[0m\u001b[0mmodel\u001b[0m\u001b[1;33m)\u001b[0m\u001b[1;33m\u001b[0m\u001b[0m\n\u001b[0m",
      "\u001b[0;32m<string>\u001b[0m in \u001b[0;36m<module>\u001b[0;34m()\u001b[0m\n",
      "\u001b[0;32mD:\\Anaconda3\\lib\\site-packages\\h2o\\estimators\\gbm.py\u001b[0m in \u001b[0;36m__init__\u001b[0;34m(self, **kwargs)\u001b[0m\n\u001b[1;32m     46\u001b[0m             \u001b[1;32melif\u001b[0m \u001b[0mpname\u001b[0m \u001b[1;32min\u001b[0m \u001b[0mnames_list\u001b[0m\u001b[1;33m:\u001b[0m\u001b[1;33m\u001b[0m\u001b[0m\n\u001b[1;32m     47\u001b[0m                 \u001b[1;31m# Using setattr(...) will invoke type-checking of the arguments\u001b[0m\u001b[1;33m\u001b[0m\u001b[1;33m\u001b[0m\u001b[0m\n\u001b[0;32m---> 48\u001b[0;31m                 \u001b[0msetattr\u001b[0m\u001b[1;33m(\u001b[0m\u001b[0mself\u001b[0m\u001b[1;33m,\u001b[0m \u001b[0mpname\u001b[0m\u001b[1;33m,\u001b[0m \u001b[0mpvalue\u001b[0m\u001b[1;33m)\u001b[0m\u001b[1;33m\u001b[0m\u001b[0m\n\u001b[0m\u001b[1;32m     49\u001b[0m             \u001b[1;32melse\u001b[0m\u001b[1;33m:\u001b[0m\u001b[1;33m\u001b[0m\u001b[0m\n\u001b[1;32m     50\u001b[0m                 \u001b[1;32mraise\u001b[0m \u001b[0mH2OValueError\u001b[0m\u001b[1;33m(\u001b[0m\u001b[1;34m\"Unknown parameter %s = %r\"\u001b[0m \u001b[1;33m%\u001b[0m \u001b[1;33m(\u001b[0m\u001b[0mpname\u001b[0m\u001b[1;33m,\u001b[0m \u001b[0mpvalue\u001b[0m\u001b[1;33m)\u001b[0m\u001b[1;33m)\u001b[0m\u001b[1;33m\u001b[0m\u001b[0m\n",
      "\u001b[0;32mD:\\Anaconda3\\lib\\site-packages\\h2o\\estimators\\gbm.py\u001b[0m in \u001b[0;36mtraining_frame\u001b[0;34m(self, training_frame)\u001b[0m\n\u001b[1;32m     61\u001b[0m     \u001b[1;33m@\u001b[0m\u001b[0mtraining_frame\u001b[0m\u001b[1;33m.\u001b[0m\u001b[0msetter\u001b[0m\u001b[1;33m\u001b[0m\u001b[0m\n\u001b[1;32m     62\u001b[0m     \u001b[1;32mdef\u001b[0m \u001b[0mtraining_frame\u001b[0m\u001b[1;33m(\u001b[0m\u001b[0mself\u001b[0m\u001b[1;33m,\u001b[0m \u001b[0mtraining_frame\u001b[0m\u001b[1;33m)\u001b[0m\u001b[1;33m:\u001b[0m\u001b[1;33m\u001b[0m\u001b[0m\n\u001b[0;32m---> 63\u001b[0;31m         \u001b[0massert_is_type\u001b[0m\u001b[1;33m(\u001b[0m\u001b[0mtraining_frame\u001b[0m\u001b[1;33m,\u001b[0m \u001b[1;32mNone\u001b[0m\u001b[1;33m,\u001b[0m \u001b[0mH2OFrame\u001b[0m\u001b[1;33m)\u001b[0m\u001b[1;33m\u001b[0m\u001b[0m\n\u001b[0m\u001b[1;32m     64\u001b[0m         \u001b[0mself\u001b[0m\u001b[1;33m.\u001b[0m\u001b[0m_parms\u001b[0m\u001b[1;33m[\u001b[0m\u001b[1;34m\"training_frame\"\u001b[0m\u001b[1;33m]\u001b[0m \u001b[1;33m=\u001b[0m \u001b[0mtraining_frame\u001b[0m\u001b[1;33m\u001b[0m\u001b[0m\n\u001b[1;32m     65\u001b[0m \u001b[1;33m\u001b[0m\u001b[0m\n",
      "\u001b[0;32mD:\\Anaconda3\\lib\\site-packages\\h2o\\utils\\typechecks.py\u001b[0m in \u001b[0;36massert_is_type\u001b[0;34m(var, *types, **kwargs)\u001b[0m\n\u001b[1;32m    455\u001b[0m     \u001b[0mvtn\u001b[0m \u001b[1;33m=\u001b[0m \u001b[0m_get_type_name\u001b[0m\u001b[1;33m(\u001b[0m\u001b[0mtype\u001b[0m\u001b[1;33m(\u001b[0m\u001b[0mvar\u001b[0m\u001b[1;33m)\u001b[0m\u001b[1;33m)\u001b[0m\u001b[1;33m\u001b[0m\u001b[0m\n\u001b[1;32m    456\u001b[0m     raise H2OTypeError(var_name=vname, var_value=var, var_type_name=vtn, exp_type_name=etn, message=message,\n\u001b[0;32m--> 457\u001b[0;31m                        skip_frames=skip_frames)\n\u001b[0m\u001b[1;32m    458\u001b[0m \u001b[1;33m\u001b[0m\u001b[0m\n\u001b[1;32m    459\u001b[0m \u001b[1;33m\u001b[0m\u001b[0m\n",
      "\u001b[0;31mH2OTypeError\u001b[0m: Argument `training_frame` should be an ?H2OFrame, got string training_frame"
     ]
    }
   ],
   "source": [
    "\n",
    "print (model)\n",
    "model_base = eval(model)"
   ]
  },
  {
   "cell_type": "code",
   "execution_count": null,
   "metadata": {
    "collapsed": true
   },
   "outputs": [],
   "source": []
  }
 ],
 "metadata": {
  "anaconda-cloud": {},
  "kernelspec": {
   "display_name": "Python [conda root]",
   "language": "python",
   "name": "conda-root-py"
  },
  "language_info": {
   "codemirror_mode": {
    "name": "ipython",
    "version": 3
   },
   "file_extension": ".py",
   "mimetype": "text/x-python",
   "name": "python",
   "nbconvert_exporter": "python",
   "pygments_lexer": "ipython3",
   "version": "3.5.2"
  }
 },
 "nbformat": 4,
 "nbformat_minor": 2
}
